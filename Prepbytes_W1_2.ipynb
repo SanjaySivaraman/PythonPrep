{
  "nbformat": 4,
  "nbformat_minor": 0,
  "metadata": {
    "colab": {
      "name": "Prepbytes_W1_2.ipynb",
      "provenance": [],
      "collapsed_sections": [],
      "authorship_tag": "ABX9TyO6Z9MR/DeRYWN3YA+FeMYS",
      "include_colab_link": true
    },
    "kernelspec": {
      "name": "python3",
      "display_name": "Python 3"
    },
    "language_info": {
      "name": "python"
    }
  },
  "cells": [
    {
      "cell_type": "markdown",
      "metadata": {
        "id": "view-in-github",
        "colab_type": "text"
      },
      "source": [
        "<a href=\"https://colab.research.google.com/github/SanjaySivaraman/PythonPrep/blob/main/Prepbytes_W1_2.ipynb\" target=\"_parent\"><img src=\"https://colab.research.google.com/assets/colab-badge.svg\" alt=\"Open In Colab\"/></a>"
      ]
    },
    {
      "cell_type": "markdown",
      "metadata": {
        "id": "f0I25J-SJZf8"
      },
      "source": [
        "Week 1: \n",
        "\n",
        "Function and OOPs"
      ]
    },
    {
      "cell_type": "code",
      "metadata": {
        "colab": {
          "base_uri": "https://localhost:8080/"
        },
        "id": "yldEo3hYd6Z6",
        "outputId": "ab95e896-666f-4326-93ae-d0995d578f56"
      },
      "source": [
        "#Function Mobile  \n",
        "class Mobile :\n",
        "  def __init__(self,brandName,color,isJack):\n",
        "    self.brandname = brandName\n",
        "    self.color = color\n",
        "    self.isJack = isJack\n",
        "  def calling(self):\n",
        "    print(\"Calling a function\")\n",
        "  def message(self):\n",
        "    print(\"Message sent\")\n",
        "#Main Function\n",
        "def main():\n",
        "  m1 = Mobile(\"Samsung\",\"Black\",False)\n",
        "  print(m1.brandname)\n",
        "  print(m1.color)\n",
        "  print(m1.isJack)\n",
        "  print(m1.calling())\n",
        "  print(m1.message())\n",
        " #Run main on startup\n",
        "if __name__ == '__main__':\n",
        "  main()"
      ],
      "execution_count": 3,
      "outputs": [
        {
          "output_type": "stream",
          "name": "stdout",
          "text": [
            "Samsung\n",
            "Black\n",
            "False\n",
            "Calling a function\n",
            "None\n",
            "Message sent\n",
            "None\n"
          ]
        }
      ]
    },
    {
      "cell_type": "code",
      "metadata": {
        "colab": {
          "base_uri": "https://localhost:8080/"
        },
        "id": "pgKFRkE-bnv8",
        "outputId": "f0473abf-0e38-44fb-ae56-06d323c8d13e"
      },
      "source": [
        "#Variables are also classes in python\n",
        "var = 9\n",
        "print(var.bit_length())\n",
        "var = 36\n",
        "print(var.bit_length())"
      ],
      "execution_count": 4,
      "outputs": [
        {
          "output_type": "stream",
          "name": "stdout",
          "text": [
            "4\n",
            "6\n"
          ]
        }
      ]
    },
    {
      "cell_type": "code",
      "metadata": {
        "colab": {
          "base_uri": "https://localhost:8080/"
        },
        "id": "S6pOZS3tf0Nu",
        "outputId": "096fbdb6-ed2f-4dad-9719-a0d1d803a1c3"
      },
      "source": [
        "#Inbuilt and Custom funtions\n",
        "st = \"Sanjay\"\n",
        "print(len(st))\n",
        "\n",
        "def length(st):\n",
        "  count = 0\n",
        "  for i in st:\n",
        "    count+=1\n",
        "  print(count)\n",
        "length(st)"
      ],
      "execution_count": 5,
      "outputs": [
        {
          "output_type": "stream",
          "name": "stdout",
          "text": [
            "6\n",
            "6\n"
          ]
        }
      ]
    },
    {
      "cell_type": "code",
      "metadata": {
        "colab": {
          "base_uri": "https://localhost:8080/"
        },
        "id": "sBvL2QmJc_ou",
        "outputId": "c711385f-f02f-4efe-d533-e9db6b72e622"
      },
      "source": [
        "#No input No output\n",
        "def sum():\n",
        "  a,b = map(int,input().split()) #Recieve input\n",
        "  print(a+b)\n",
        "\n",
        "sum()"
      ],
      "execution_count": 6,
      "outputs": [
        {
          "output_type": "stream",
          "name": "stdout",
          "text": [
            "2 3\n",
            "5\n"
          ]
        }
      ]
    },
    {
      "cell_type": "code",
      "metadata": {
        "colab": {
          "base_uri": "https://localhost:8080/"
        },
        "id": "M-L3lsZpd19F",
        "outputId": "69790ee9-0b28-4d13-ce03-4283e896b809"
      },
      "source": [
        "#Input but No output\n",
        "def sum(a,b):\n",
        "  #a,b = map(int,input().split()) #Recieve input\n",
        "  print(a+b)\n",
        "\n",
        "sum(2,3)"
      ],
      "execution_count": 7,
      "outputs": [
        {
          "output_type": "stream",
          "name": "stdout",
          "text": [
            "5\n"
          ]
        }
      ]
    },
    {
      "cell_type": "markdown",
      "metadata": {
        "id": "yG3qYNYZkO3p"
      },
      "source": [
        "In Python, return type is dynamic based on the values returned by the function"
      ]
    },
    {
      "cell_type": "code",
      "metadata": {
        "colab": {
          "base_uri": "https://localhost:8080/"
        },
        "id": "cKTTdUeNg-C-",
        "outputId": "d2f02de2-69fc-45cd-a1c4-0f2fb0c8b43f"
      },
      "source": [
        "#No input but output\n",
        "def sum():\n",
        "  a,b = map(int,input().split()) #Recieve input\n",
        "  #print(a+b)\n",
        "  return a+b\n",
        "x = sum()\n",
        "print(x)"
      ],
      "execution_count": 8,
      "outputs": [
        {
          "output_type": "stream",
          "name": "stdout",
          "text": [
            "2 3\n",
            "5\n"
          ]
        }
      ]
    },
    {
      "cell_type": "code",
      "metadata": {
        "colab": {
          "base_uri": "https://localhost:8080/"
        },
        "id": "FCqJKkw7hNCA",
        "outputId": "cd32a74e-c543-433f-cd60-5f4282d7a385"
      },
      "source": [
        "#Both input but output\n",
        "def sum(a,b):\n",
        "  #a,b = map(int,input().split()) #Recieve input\n",
        "  #print(a+b)\n",
        "  return a+b\n",
        "x = sum(2,7)\n",
        "print(x)"
      ],
      "execution_count": 9,
      "outputs": [
        {
          "output_type": "stream",
          "name": "stdout",
          "text": [
            "9\n"
          ]
        }
      ]
    },
    {
      "cell_type": "markdown",
      "metadata": {
        "id": "vgZzdc80hYcJ"
      },
      "source": [
        " Note : In Python the values are passed by assignment and not by refernce by default"
      ]
    },
    {
      "cell_type": "code",
      "metadata": {
        "colab": {
          "base_uri": "https://localhost:8080/"
        },
        "id": "hc3-LRKUhqH4",
        "outputId": "9ea9d9b4-8c34-4476-a95b-560745a17411"
      },
      "source": [
        "def swap(a,b):\n",
        "  temp = a\n",
        "  a = b\n",
        "  b = temp\n",
        "  print(\"Inside  Swap Func \",a,b)\n",
        "a = 3\n",
        "b = 4\n",
        "swap(a,b)\n",
        "print(\"Outside Swap Func \",a,b)"
      ],
      "execution_count": 10,
      "outputs": [
        {
          "output_type": "stream",
          "name": "stdout",
          "text": [
            "Inside  Swap Func  4 3\n",
            "Outside Swap Func  3 4\n"
          ]
        }
      ]
    },
    {
      "cell_type": "markdown",
      "metadata": {
        "id": "ApHb21qfiHv1"
      },
      "source": [
        "Solved when list is passed as a *argument* it passes by reference"
      ]
    },
    {
      "cell_type": "code",
      "metadata": {
        "colab": {
          "base_uri": "https://localhost:8080/"
        },
        "id": "yg0hF1X_iehE",
        "outputId": "08a5fda5-a191-44bc-f228-2d94a9a9de4c"
      },
      "source": [
        "def swap(a,b):\n",
        "  temp = a[0]\n",
        "  a[0] = b[0]\n",
        "  b[0] = temp\n",
        "  print(\"Inside  Swap Func \",a[0],b[0])\n",
        "a = [1,2,3]\n",
        "b = [4,5,6]\n",
        "swap(a,b)\n",
        "print(\"Outside Swap Func \",a[0],b[0])"
      ],
      "execution_count": 11,
      "outputs": [
        {
          "output_type": "stream",
          "name": "stdout",
          "text": [
            "Inside  Swap Func  4 1\n",
            "Outside Swap Func  4 1\n"
          ]
        }
      ]
    },
    {
      "cell_type": "markdown",
      "metadata": {
        "id": "zhaQeTvLnnSZ"
      },
      "source": [
        "Instance variables vs Class variable\n",
        "\n"
      ]
    },
    {
      "cell_type": "code",
      "metadata": {
        "id": "RcA8bAgAiqi7",
        "colab": {
          "base_uri": "https://localhost:8080/"
        },
        "outputId": "7d433c38-de13-4564-aac0-ba19c53b2ab1"
      },
      "source": [
        "#Function Mobile  \n",
        "class Mobile :\n",
        "  year = 2020 #Classvaraible \n",
        "  def __init__(self,brandName,color,isJack):\n",
        "    self.brandname = brandName #Instance Variables\n",
        "    self.color = color\n",
        "    self.isJack = isJack\n",
        "  def calling(self):\n",
        "    print(\"Calling a function\")\n",
        "  def message(self):\n",
        "    print(\"Message sent\")\n",
        "#Main Function\n",
        "def main():\n",
        "  m1 = Mobile(\"Samsung\",\"Black\",False)\n",
        "  m2 = Mobile(\"Apple\",\"Yellow\",True)\n",
        "  print(m1.brandname)\n",
        "  print(m1.color)\n",
        "  m1.screen = \"LED\" #Instance Specific Variable\n",
        "  print(m1.screen)\n",
        "  m1.year  = 2021\n",
        "  print(m1.year)\n",
        "  m1.color = \"Green\" #DOUBT ???\n",
        "  print(m1.color)\n",
        "  \n",
        "  print(m2.brandname)\n",
        "  print(m2.color)\n",
        "  #print(m2.screen) - Error as screen is only for M1 Instance \n",
        "  m2.year  = 2023\n",
        "  print(m2.year)\n",
        "  print(m2.color)\n",
        "\n",
        "\n",
        "#Run main on startup\n",
        "if __name__ == '__main__':\n",
        "  main()"
      ],
      "execution_count": 24,
      "outputs": [
        {
          "output_type": "stream",
          "name": "stdout",
          "text": [
            "Samsung\n",
            "Black\n",
            "LED\n",
            "2021\n",
            "Green\n",
            "Apple\n",
            "Yellow\n",
            "2023\n",
            "Yellow\n"
          ]
        }
      ]
    },
    {
      "cell_type": "markdown",
      "metadata": {
        "id": "5UptBgcKp7XD"
      },
      "source": [
        "Inheritance 1 :"
      ]
    },
    {
      "cell_type": "code",
      "metadata": {
        "colab": {
          "base_uri": "https://localhost:8080/"
        },
        "id": "6z_PuKXJnlJJ",
        "outputId": "cdf0b926-ef6e-46f3-d1f4-7dff978fef65"
      },
      "source": [
        "class Car : #Base Class\n",
        "  def __init__(self,gears,seats,maxSpeed):\n",
        "    self.gears = gears\n",
        "    self.seats = seats\n",
        "    self.maxSpeed = maxSpeed\n",
        "  \n",
        "  def speedUp(self):\n",
        "    print(\"Speed Increasing\")\n",
        "\n",
        "  def brake(self):\n",
        "    print(\"Speed Decreasing\")\n",
        "\n",
        "  def movement(self):\n",
        "    print(\"Car moves\")\n",
        "\n",
        "class Toyota(Car): #Inherited CLass\n",
        "  def __init__(self,gears,seats,maxSpeed,mileage):\n",
        "    self.mileage = mileage\n",
        "    super().__init__(gears,seats,maxSpeed) #Functionalities from parent init class which was overridden\n",
        "  def race_mode(self):\n",
        "    print(\"Race mode is on\")\n",
        "\n",
        "class PAL_V(Car):\n",
        "  def movement(self): #Method Overriding - Name should be exactly the same\n",
        "    print(\"Car flies\")\n",
        "\n",
        "class Hyundai:\n",
        "  def __init__(self):\n",
        "    self.brandname = \"Hyundai\"\n",
        "\n",
        "\n",
        "class Verna(Car,Hyundai):\n",
        "  def __init__(self,gears,seats,maxSpeed):\n",
        "    Car.__init__(self,gears,seats,maxSpeed)\n",
        "    Hyundai.__init__(self)\n",
        "\n",
        "\n",
        "\n",
        "h1 = Toyota(5,4,240,50)\n",
        "h2 = PAL_V(6,3,100)\n",
        "\n",
        "# print(h1.gears)\n",
        "# print(h1.seats)\n",
        "# print(h1.maxSpeed)\n",
        "# h1.speedUp()\n",
        "# h1.brake()\n",
        "\n",
        "# print(h2.gears)\n",
        "# print(h2.seats)\n",
        "# print(h2.maxSpeed)\n",
        "# h2.speedUp()\n",
        "# h2.brake()\n",
        "\n",
        "h1.race_mode()\n",
        "#h2.race_mode() - Error as race mode is only for toyota\n",
        "\n",
        "#Method Overriding - Name should be exactly the same\n",
        "h1.movement()\n",
        "h2.movement()\n",
        "\n",
        "#Accessing parent class functionalities using super() keyword\n",
        "print(h1.mileage) \n",
        "\n",
        "#Multiple Ineritance - Inherit from more than one class\n",
        "h3 = Verna(5,4,120)\n",
        "print(h3.brandname)"
      ],
      "execution_count": 41,
      "outputs": [
        {
          "output_type": "stream",
          "name": "stdout",
          "text": [
            "Race mode is on\n",
            "Car moves\n",
            "Car flies\n",
            "50\n",
            "Hyundai\n"
          ]
        }
      ]
    },
    {
      "cell_type": "markdown",
      "metadata": {
        "id": "lcn5-MNW0CfG"
      },
      "source": [
        "###Multilevel Inheritance - Granchild relationship \n",
        "Method Resolution Order is crucial\n",
        "Granchild nodes must be executed before the child nodes and child nodes are executed before parent nodes always"
      ]
    },
    {
      "cell_type": "code",
      "metadata": {
        "colab": {
          "base_uri": "https://localhost:8080/"
        },
        "id": "_EZZmP3A0HhK",
        "outputId": "47579d60-4137-4a86-aed3-b9cc8cdca62a"
      },
      "source": [
        "class X:\n",
        "  pass\n",
        "\n",
        "class Y:\n",
        "  pass\n",
        "\n",
        "class Z:\n",
        "  pass\n",
        "\n",
        "class P(X,Y):\n",
        "  pass\n",
        "\n",
        "class Q(Y,Z):\n",
        "  pass\n",
        "\n",
        "class R(P,Q,Z):\n",
        "  pass\n",
        "\n",
        "#Method Resolution Order - It returns an error if ambiguous else the order of resolution from leaf node\n",
        "print(R.mro()) "
      ],
      "execution_count": 44,
      "outputs": [
        {
          "output_type": "stream",
          "name": "stdout",
          "text": [
            "[<class '__main__.R'>, <class '__main__.P'>, <class '__main__.X'>, <class '__main__.Q'>, <class '__main__.Y'>, <class '__main__.Z'>, <class 'object'>]\n"
          ]
        }
      ]
    },
    {
      "cell_type": "markdown",
      "metadata": {
        "id": "9w5_aTqv0l35"
      },
      "source": [
        "###Access Modifiers\n",
        "\n",
        "1. Private - __var\n",
        "2. Protected - _var\n",
        "3. Public - var"
      ]
    },
    {
      "cell_type": "code",
      "metadata": {
        "colab": {
          "base_uri": "https://localhost:8080/",
          "height": 69
        },
        "id": "MEr-oyUG3L3I",
        "outputId": "f39702c5-7693-4064-e332-d74e830b62a7"
      },
      "source": [
        "# TO DO\n",
        "\"\"\"\n",
        "class Account:\n",
        "  __amount = 0\n",
        "  def deposit(self,add):\n",
        "    self.amount += add\n",
        "\n",
        "  def debit(self,sub):\n",
        "    self.amount -= sub\n",
        "\n",
        "  def printBalance(self):\n",
        "    print(amount)\n",
        "\n",
        "a1 = Account()\n",
        "a1.deposit(10000)\n",
        "print(amount)\n",
        "a.printBalance()\n",
        "a1.debit(1000)\n",
        "a.printBalance()\n",
        "\"\"\""
      ],
      "execution_count": 54,
      "outputs": [
        {
          "output_type": "execute_result",
          "data": {
            "application/vnd.google.colaboratory.intrinsic+json": {
              "type": "string"
            },
            "text/plain": [
              "'\\nclass Account:\\n  __amount = 0\\n  def deposit(self,add):\\n    self.amount += add\\n\\n  def debit(self,sub):\\n    self.amount -= sub\\n\\n  def printBalance(self):\\n    print(amount)\\n\\na1 = Account()\\na1.deposit(10000)\\nprint(amount)\\na.printBalance()\\na1.debit(1000)\\na.printBalance()\\n'"
            ]
          },
          "metadata": {},
          "execution_count": 54
        }
      ]
    },
    {
      "cell_type": "code",
      "metadata": {
        "colab": {
          "base_uri": "https://localhost:8080/"
        },
        "id": "UcNoeX9o38-Q",
        "outputId": "f55024d8-2ed9-4b82-dcd0-2af69c085cbe"
      },
      "source": [
        "#Method Overloading - Duck Typing (Special Type of Dynamic Typing)\n",
        "class jio :\n",
        "    def call(self):\n",
        "      print(\"Calling from Jio\")\n",
        "\n",
        "class airtel :\n",
        "    def call(self): #Call method used again aka overloaded\n",
        "      print(\"Calling from Airtel\")\n",
        "\n",
        "class Phone:\n",
        "  def callFromSim(self,phoneapp):\n",
        "    phoneapp.call()\n",
        "\n",
        "sim1 = jio()\n",
        "sim2 = airtel()\n",
        "phone = Phone()\n",
        "phone.callFromSim(sim1)\n",
        "phone.callFromSim(sim2)"
      ],
      "execution_count": 59,
      "outputs": [
        {
          "output_type": "stream",
          "name": "stdout",
          "text": [
            "Calling from Jio\n",
            "Calling from Airtel\n"
          ]
        }
      ]
    },
    {
      "cell_type": "code",
      "metadata": {
        "colab": {
          "base_uri": "https://localhost:8080/"
        },
        "id": "j7WueZzV7OSO",
        "outputId": "47ecbe92-6190-473e-e4a3-a19aa7d45353"
      },
      "source": [
        "#Operator Overloading\n",
        "a = 10\n",
        "b = 7\n",
        "print(a-b)\n",
        "#Internal Representation calls corresponding maggic functions\n",
        "print(int.__sub__(a,b)) \n",
        "\n",
        "class Student :\n",
        "  def __init__(self,x,y):\n",
        "    self.x = x\n",
        "    self.y = y\n",
        "  \n",
        "  def __sub__(self,other):\n",
        "    subx = self.x - other.x\n",
        "    suby = self.y - other.y\n",
        "    return '{} {}'.format(subx,suby)\n",
        "\n",
        "  def __gt__(self,other):\n",
        "    if ((self.x + self.y)>(other.x + other.y)):\n",
        "      return True\n",
        "    else :\n",
        "      return False\n",
        "\n",
        "S1 = Student(15,20)\n",
        "S2 = Student(5,15)\n",
        "print(S1 - S2)   \n",
        "if (S1>S2):\n",
        "  print(\"S1 is greater\")\n",
        "else :\n",
        "  print(\"S2 is greater\")"
      ],
      "execution_count": 68,
      "outputs": [
        {
          "output_type": "stream",
          "name": "stdout",
          "text": [
            "3\n",
            "3\n",
            "10 5\n",
            "S1 is greater\n"
          ]
        }
      ]
    },
    {
      "cell_type": "markdown",
      "metadata": {
        "id": "d_qpd44X8tgU"
      },
      "source": [
        "###Exception Handling :\n",
        "\n",
        "1. Errors - \n",
        "  * Syntax Errors\n",
        "  * Logical Errors\n",
        "  * Run Time"
      ]
    },
    {
      "cell_type": "code",
      "metadata": {
        "colab": {
          "base_uri": "https://localhost:8080/"
        },
        "id": "f9x3adhGAgSu",
        "outputId": "cccff79a-a762-45ac-8d1c-1b7ec6da711c"
      },
      "source": [
        "a = int(input())\n",
        "b = int(input())\n",
        "\n",
        "try :\n",
        "  print(a/b)\n",
        "except Exception as e :\n",
        "  print(\"Error Occurred :\", e)\n",
        "finally :\n",
        "  print(\"Prints despit of any error\")"
      ],
      "execution_count": 74,
      "outputs": [
        {
          "output_type": "stream",
          "name": "stdout",
          "text": [
            "5\n",
            "0\n",
            "Error Occurred : division by zero\n",
            "Prints despit of any error\n"
          ]
        }
      ]
    }
  ]
}
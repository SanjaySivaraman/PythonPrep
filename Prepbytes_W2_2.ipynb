{
  "nbformat": 4,
  "nbformat_minor": 0,
  "metadata": {
    "colab": {
      "name": "Prepbytes_W2_2.ipynb",
      "provenance": [],
      "authorship_tag": "ABX9TyNuVt/8Z8YqsBLb3d18GAHN",
      "include_colab_link": true
    },
    "kernelspec": {
      "name": "python3",
      "display_name": "Python 3"
    },
    "language_info": {
      "name": "python"
    }
  },
  "cells": [
    {
      "cell_type": "markdown",
      "metadata": {
        "id": "view-in-github",
        "colab_type": "text"
      },
      "source": [
        "<a href=\"https://colab.research.google.com/github/SanjaySivaraman/PythonPrep/blob/main/Prepbytes_W2_2.ipynb\" target=\"_parent\"><img src=\"https://colab.research.google.com/assets/colab-badge.svg\" alt=\"Open In Colab\"/></a>"
      ]
    },
    {
      "cell_type": "markdown",
      "metadata": {
        "id": "3RLEosbASzVv"
      },
      "source": [
        "### Problem Solving using Arrays"
      ]
    },
    {
      "cell_type": "markdown",
      "metadata": {
        "id": "hkT62aa6S8EZ"
      },
      "source": [
        "1) Rotation of Arrays"
      ]
    },
    {
      "cell_type": "code",
      "metadata": {
        "colab": {
          "base_uri": "https://localhost:8080/"
        },
        "id": "hRiV7xvDTQiQ",
        "outputId": "fe5c6e5d-a921-4e55-bfa4-7ac7fbf499c3"
      },
      "source": [
        "#Brute Force :\n",
        "def rotate_right_once(a):\n",
        "  temp = a[-1]\n",
        "  for i in range(len(a)-1,0,-1): # n-1 to 0 decreasing 1\n",
        "    a[i] = a[i-1] # a[n-1] = a[n-2] and so on\n",
        "  a[0] = temp\n",
        "  return a\n",
        "\n",
        "a = [1,2,3,4,5]\n",
        "k = int(input())\n",
        "for i in range(k):\n",
        "  a = rotate_right_once(a)\n",
        "print(a)"
      ],
      "execution_count": 20,
      "outputs": [
        {
          "output_type": "stream",
          "name": "stdout",
          "text": [
            "3\n",
            "[3, 4, 5, 1, 2]\n"
          ]
        }
      ]
    },
    {
      "cell_type": "code",
      "metadata": {
        "colab": {
          "base_uri": "https://localhost:8080/"
        },
        "id": "fbHB2mCwTvQY",
        "outputId": "70fe9a3f-c360-4668-c316-8fa542e919bd"
      },
      "source": [
        "#Brute Force :\n",
        "def rotate_left_once(a):\n",
        "  temp = a[0]\n",
        "  for i in range(len(a)-1): # n-1 to 0 decreasing 1\n",
        "    a[i] = a[i+1] # a[0] = a[1] and so on\n",
        "  a[-1] = temp\n",
        "  return a\n",
        "\n",
        "a = [1,2,3,4,5]\n",
        "k = int(input())\n",
        "for i in range(k):\n",
        "  a = rotate_left_once(a)\n",
        "print(a)"
      ],
      "execution_count": 21,
      "outputs": [
        {
          "output_type": "stream",
          "name": "stdout",
          "text": [
            "3\n",
            "[4, 5, 1, 2, 3]\n"
          ]
        }
      ]
    },
    {
      "cell_type": "markdown",
      "metadata": {
        "id": "JadkyEoZXFRO"
      },
      "source": [
        "The brute force approach is not optimised as it O(n^2). Hence we use Reversal Algorithm.\n",
        "\n",
        "1. Right Rotate :\n",
        "* Reverse the last k elements - reverse(n-k,n-1)\n",
        "* Reverse the first n-k elements - reverse(0,n-k-1)\n",
        "* Reverse the whole n elements - reverse(n-1)\n",
        "\n",
        "2. Left Rotate :\n",
        "* Reverse the first k elements - reverse(0,k-1)\n",
        "* Reverse the last n-k elements - reverse(k,n-1)\n",
        "* Reverse the whole n elements - reverse(n-1)"
      ]
    },
    {
      "cell_type": "code",
      "metadata": {
        "colab": {
          "base_uri": "https://localhost:8080/"
        },
        "id": "M6hygAdVa5La",
        "outputId": "00ebdd18-0ecd-42f2-e810-522917f84481"
      },
      "source": [
        "#Reversal Algo\n",
        "def reverse(a,i,j):\n",
        " while(j>i):\n",
        "    temp = a[i]\n",
        "    a[i] = a[j]\n",
        "    a[j] = temp\n",
        "    i+=1\n",
        "    j-=1\n",
        "  \n",
        "def rotate_right(a,k):\n",
        "  n = len(a)\n",
        "  reverse(a,n-k,n-1)\n",
        "  reverse(a,0,n-k-1)\n",
        "  reverse(a,0,n-1)\n",
        "\n",
        "def rotate_left(a,k):\n",
        "  n = len(a)\n",
        "  reverse(a,0,k-1)\n",
        "  reverse(a,k,n-1)\n",
        "  reverse(a,0,n-1)\n",
        "\n",
        "a = [1,2,3,4]\n",
        "\n",
        "#rotate_left(a,1)\n",
        "rotate_right(a,1)\n",
        "print(a)"
      ],
      "execution_count": 50,
      "outputs": [
        {
          "output_type": "stream",
          "name": "stdout",
          "text": [
            "[4, 1, 2, 3]\n"
          ]
        }
      ]
    },
    {
      "cell_type": "code",
      "metadata": {
        "colab": {
          "base_uri": "https://localhost:8080/"
        },
        "id": "uD73BoCpcK55",
        "outputId": "8a5bcfb7-e9a2-41e0-e43b-82b4ebf3b974"
      },
      "source": [
        ""
      ],
      "execution_count": 43,
      "outputs": [
        {
          "output_type": "stream",
          "name": "stdout",
          "text": [
            "[2, 1, 3]\n"
          ]
        }
      ]
    },
    {
      "cell_type": "code",
      "metadata": {
        "id": "qvH-eBZqgngP"
      },
      "source": [
        ""
      ],
      "execution_count": null,
      "outputs": []
    }
  ]
}
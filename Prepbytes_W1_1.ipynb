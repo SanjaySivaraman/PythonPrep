{
  "nbformat": 4,
  "nbformat_minor": 0,
  "metadata": {
    "colab": {
      "name": "Prepbytes_W1_1.ipynb",
      "provenance": [],
      "collapsed_sections": [],
      "authorship_tag": "ABX9TyMtuMPnf88qxyQs5/Nliaxw",
      "include_colab_link": true
    },
    "kernelspec": {
      "name": "python3",
      "display_name": "Python 3"
    },
    "language_info": {
      "name": "python"
    }
  },
  "cells": [
    {
      "cell_type": "markdown",
      "metadata": {
        "id": "view-in-github",
        "colab_type": "text"
      },
      "source": [
        "<a href=\"https://colab.research.google.com/github/SanjaySivaraman/PythonPrep/blob/main/Prepbytes_W1_1.ipynb\" target=\"_parent\"><img src=\"https://colab.research.google.com/assets/colab-badge.svg\" alt=\"Open In Colab\"/></a>"
      ]
    },
    {
      "cell_type": "markdown",
      "metadata": {
        "id": "f0I25J-SJZf8"
      },
      "source": [
        "Week 1: \n",
        "\n",
        "Data Structures in Python"
      ]
    },
    {
      "cell_type": "markdown",
      "metadata": {
        "id": "7LGIHiqGJsiX"
      },
      "source": [
        "Lists"
      ]
    },
    {
      "cell_type": "code",
      "metadata": {
        "id": "HnfxOoCVJdMM"
      },
      "source": [
        "li = ['a','b','c','d','e','f']"
      ],
      "execution_count": null,
      "outputs": []
    },
    {
      "cell_type": "code",
      "metadata": {
        "colab": {
          "base_uri": "https://localhost:8080/"
        },
        "id": "tOLYEpfZJzG9",
        "outputId": "bfd73c47-9355-4b73-b642-fc3d32b99291"
      },
      "source": [
        "for i in range(len(li)):\n",
        "  print(li[i])\n",
        "for ele in li:\n",
        "  print(ele)"
      ],
      "execution_count": null,
      "outputs": [
        {
          "output_type": "stream",
          "name": "stdout",
          "text": [
            "a\n",
            "b\n",
            "c\n",
            "d\n",
            "e\n",
            "f\n",
            "a\n",
            "b\n",
            "c\n",
            "d\n",
            "e\n",
            "f\n"
          ]
        }
      ]
    },
    {
      "cell_type": "markdown",
      "metadata": {
        "id": "AsEfdX_jKwvv"
      },
      "source": [
        "1. Lists are ordered\n",
        "2. Lists are heterogeneous\n",
        "3. Can be empty\n",
        "4. Values can be repeated\n",
        "5. Elements can be accessed using index\n",
        "6. Zero based index from start and negative indexed from last\n",
        "7. Slicing allowed [ a : n ) => a to n-1 \n",
        "\n"
      ]
    },
    {
      "cell_type": "code",
      "metadata": {
        "colab": {
          "base_uri": "https://localhost:8080/"
        },
        "id": "5oXpB2pKLwsb",
        "outputId": "6b7a8802-b585-4fd6-d0b9-15942481dded"
      },
      "source": [
        "print(li[1:3])\n",
        "print(li[0:100])\n",
        "print(li[0:])\n",
        "print(li[:4])\n",
        "print(type(li[0:4]))\n",
        "print(li[0:6:2])\n",
        "print(li[::-1])\n",
        "print(li[-7:7:2])"
      ],
      "execution_count": null,
      "outputs": [
        {
          "output_type": "stream",
          "name": "stdout",
          "text": [
            "['b', 'c']\n",
            "['a', 'b', 'c', 'd', 'e', 'f']\n",
            "['a', 'b', 'c', 'd', 'e', 'f']\n",
            "['a', 'b', 'c', 'd']\n",
            "<class 'list'>\n",
            "['a', 'c', 'e']\n",
            "['f', 'e', 'd', 'c', 'b', 'a']\n",
            "['a', 'c', 'e']\n"
          ]
        }
      ]
    },
    {
      "cell_type": "code",
      "metadata": {
        "colab": {
          "base_uri": "https://localhost:8080/"
        },
        "id": "TLJK9ppwLysR",
        "outputId": "adef3d1e-0c8b-4dd7-c084-e8a5c5f1ee1f"
      },
      "source": [
        "#in and not in operators\n",
        "print('b' in li)\n",
        "print('b' not in li)\n",
        "print('z' not in li)"
      ],
      "execution_count": null,
      "outputs": [
        {
          "output_type": "stream",
          "name": "stdout",
          "text": [
            "True\n",
            "False\n",
            "True\n"
          ]
        }
      ]
    },
    {
      "cell_type": "code",
      "metadata": {
        "colab": {
          "base_uri": "https://localhost:8080/"
        },
        "id": "5_i580XvNP34",
        "outputId": "ccc9af4d-1510-4350-c2d0-0e91d18e4037"
      },
      "source": [
        "#concat, replication\n",
        "li = li + ['x','y','z']\n",
        "print(li)\n",
        "li = li*2\n",
        "print(li)"
      ],
      "execution_count": null,
      "outputs": [
        {
          "output_type": "stream",
          "name": "stdout",
          "text": [
            "['a', 'b', 'c', 'd', 'e', 'f', 'x', 'y', 'z']\n",
            "['a', 'b', 'c', 'd', 'e', 'f', 'x', 'y', 'z', 'a', 'b', 'c', 'd', 'e', 'f', 'x', 'y', 'z']\n"
          ]
        }
      ]
    },
    {
      "cell_type": "code",
      "metadata": {
        "colab": {
          "base_uri": "https://localhost:8080/"
        },
        "id": "0d_xahbyNkiI",
        "outputId": "2a1b8f2e-f6d5-4fcd-81af-11904957d62c"
      },
      "source": [
        "print(len(li))\n",
        "print(min(li))\n",
        "print(max(li))"
      ],
      "execution_count": null,
      "outputs": [
        {
          "output_type": "stream",
          "name": "stdout",
          "text": [
            "18\n",
            "a\n",
            "z\n"
          ]
        }
      ]
    },
    {
      "cell_type": "markdown",
      "metadata": {
        "id": "as9TZzPgNrUD"
      },
      "source": [
        "LIst can be nested"
      ]
    },
    {
      "cell_type": "code",
      "metadata": {
        "id": "-oyZHJuqOBII"
      },
      "source": [
        "li1 = ['sanjay',li,['1','2']] "
      ],
      "execution_count": null,
      "outputs": []
    },
    {
      "cell_type": "code",
      "metadata": {
        "colab": {
          "base_uri": "https://localhost:8080/"
        },
        "id": "j7bwNtaFOJsZ",
        "outputId": "5037cbc4-9a78-4045-bdfb-2c89bab1f870"
      },
      "source": [
        "print(li1)\n",
        "print(li1[0])\n",
        "print(li1[0][0])\n",
        "print(li1[1])\n",
        "print(li1[1][0])\n",
        "print(li1[2])\n",
        "print(li1[2][0])"
      ],
      "execution_count": null,
      "outputs": [
        {
          "output_type": "stream",
          "name": "stdout",
          "text": [
            "['sanjay', ['z', 'e', 'p', 'b', 'y', 't', 'e', 's', 'b', 'y', 't', 'e', 's', 'x', 'y', 'z', 'a', 'b', 'c', 'd', 'e', 'f', 'x', 'y', 'z'], ['1', '2']]\n",
            "sanjay\n",
            "s\n",
            "['z', 'e', 'p', 'b', 'y', 't', 'e', 's', 'b', 'y', 't', 'e', 's', 'x', 'y', 'z', 'a', 'b', 'c', 'd', 'e', 'f', 'x', 'y', 'z']\n",
            "z\n",
            "['1', '2']\n",
            "1\n"
          ]
        }
      ]
    },
    {
      "cell_type": "markdown",
      "metadata": {
        "id": "b5lBMYXNOKm3"
      },
      "source": [
        "Lists are mutable"
      ]
    },
    {
      "cell_type": "code",
      "metadata": {
        "colab": {
          "base_uri": "https://localhost:8080/"
        },
        "id": "vNONi3pNPY-T",
        "outputId": "9cd2b82b-a1f4-47dc-f0fd-3a5aeb88192b"
      },
      "source": [
        "li = ['a','b','c','d','e','f']\n",
        "li[0] = 'f'\n",
        "li[-1] = 'a'\n",
        "print(li)\n",
        "del li[1]\n",
        "print(li)\n",
        "#li[1:4] = 1000 - Not an iterable error\n",
        "li[1:4] = [1000]\n",
        "print(li)\n",
        "li[1:4] = \"Prepbytes\"\n",
        "print(li)\n",
        "del li[1:3]\n",
        "print(li)"
      ],
      "execution_count": null,
      "outputs": [
        {
          "output_type": "stream",
          "name": "stdout",
          "text": [
            "['f', 'b', 'c', 'd', 'e', 'a']\n",
            "['f', 'c', 'd', 'e', 'a']\n",
            "['f', 1000, 'a']\n",
            "['f', 'P', 'r', 'e', 'p', 'b', 'y', 't', 'e', 's']\n",
            "['f', 'e', 'p', 'b', 'y', 't', 'e', 's']\n"
          ]
        }
      ]
    },
    {
      "cell_type": "code",
      "metadata": {
        "colab": {
          "base_uri": "https://localhost:8080/"
        },
        "id": "6rULXZUIPd0n",
        "outputId": "08c7a38e-3675-4e4d-cabf-d691cc5e6b9a"
      },
      "source": [
        "li+['1','2']\n",
        "print(\"Without assigning :\")\n",
        "print(li)\n",
        "print(\"With assigning :\")\n",
        "print(\"Prepend :\")\n",
        "li = ['1','2'] + li\n",
        "print(li)\n",
        "print(\"Append :\")\n",
        "li = li+['1','2']\n",
        "print(li)\n",
        "li += \"3456\"\n",
        "print(li)\n",
        "print(\"Append using append function:\")\n",
        "li.append(\"789\") #Automatically assigns\n",
        "print(li)"
      ],
      "execution_count": null,
      "outputs": [
        {
          "output_type": "stream",
          "name": "stdout",
          "text": [
            "Without assigning :\n",
            "['f', 'e', 'p', 'b', 'y', 't', 'e', 's']\n",
            "With assigning :\n",
            "Prepend :\n",
            "['1', '2', 'f', 'e', 'p', 'b', 'y', 't', 'e', 's']\n",
            "Append :\n",
            "['1', '2', 'f', 'e', 'p', 'b', 'y', 't', 'e', 's', '1', '2']\n",
            "['1', '2', 'f', 'e', 'p', 'b', 'y', 't', 'e', 's', '1', '2', '3', '4', '5', '6']\n",
            "Append using append function:\n",
            "['1', '2', 'f', 'e', 'p', 'b', 'y', 't', 'e', 's', '1', '2', '3', '4', '5', '6', '789']\n"
          ]
        }
      ]
    },
    {
      "cell_type": "code",
      "metadata": {
        "colab": {
          "base_uri": "https://localhost:8080/"
        },
        "id": "qDzUuth9SG54",
        "outputId": "a8334d50-ba8c-4f33-c61d-cbac78a95ea9"
      },
      "source": [
        "li.insert(2,\"abcd\") #Automatically assigns\n",
        "print(li)\n",
        "li.remove(\"abcd\") #Object is passed to be removed\n",
        "print(li)\n",
        "li.pop(-2) #Index is passed to be removed\n",
        "print(li)\n",
        "li.pop() #Default value is -1 and pops last element\n",
        "print(li)"
      ],
      "execution_count": null,
      "outputs": [
        {
          "output_type": "stream",
          "name": "stdout",
          "text": [
            "['1', '2', 'abcd', 'f', 'e', 'p', 'b', 'y', 't', 'e', 's', '1', '2', '3', '4', '5', '6', '789']\n",
            "['1', '2', 'f', 'e', 'p', 'b', 'y', 't', 'e', 's', '1', '2', '3', '4', '5', '6', '789']\n",
            "['1', '2', 'f', 'e', 'p', 'b', 'y', 't', 'e', 's', '1', '2', '3', '4', '5', '789']\n",
            "['1', '2', 'f', 'e', 'p', 'b', 'y', 't', 'e', 's', '1', '2', '3', '4', '5']\n"
          ]
        }
      ]
    },
    {
      "cell_type": "markdown",
      "metadata": {
        "id": "zhIQkNj-TG4U"
      },
      "source": [
        "TUPLES:  \n",
        "Same as list but\n",
        "\n",
        "1.   Immutable\n",
        "2.   defined by ()\n",
        "3.   Faster for larger datasets\n",
        "\n"
      ]
    },
    {
      "cell_type": "code",
      "metadata": {
        "colab": {
          "base_uri": "https://localhost:8080/"
        },
        "id": "u6_YGmJJT7nr",
        "outputId": "01e34d71-0196-4f8f-97c0-a147e5b37b38"
      },
      "source": [
        "#Packing and Unpacking\n",
        "t = ('a','b','c','d')\n",
        "v1,v2,v3,v4 = t\n",
        "print(v2)"
      ],
      "execution_count": null,
      "outputs": [
        {
          "output_type": "stream",
          "name": "stdout",
          "text": [
            "b\n"
          ]
        }
      ]
    },
    {
      "cell_type": "markdown",
      "metadata": {
        "id": "QtUYAkv9aEKy"
      },
      "source": [
        "DICTIONARY :\n",
        "Key Value pair collection of objects\n",
        "\n",
        "1.   Mutable, Dynamic, Can be Nested\n",
        "2.   Accessed using a key - > {key : value}\n",
        "\n"
      ]
    },
    {
      "cell_type": "code",
      "metadata": {
        "colab": {
          "base_uri": "https://localhost:8080/"
        },
        "id": "Uc7eIFrjabZw",
        "outputId": "83287ba4-5b82-44b3-8be8-fba258aea7ee"
      },
      "source": [
        "IPL = {'MI':'Rohit','CSK':'MSD','RCB':'Virat','DC':'RP'}\n",
        "IPL1 = dict([('MI','Rohit'),('CSK','MSD'),('RCB','Virat'),('DC','RP')])\n",
        "IPL2 = {}\n",
        "IPL2['MI'] = 'Rohit'\n",
        "IPL2['CSK'] = 'MSD'\n",
        "IPL2['RCB'] = ['VK','ABD','MAXI']\n",
        "print(IPL)\n",
        "print(IPL1)\n",
        "print(IPL2)"
      ],
      "execution_count": null,
      "outputs": [
        {
          "output_type": "stream",
          "name": "stdout",
          "text": [
            "{'MI': 'Rohit', 'CSK': 'MSD', 'RCB': 'Virat', 'DC': 'RP'}\n",
            "{'MI': 'Rohit', 'CSK': 'MSD', 'RCB': 'Virat', 'DC': 'RP'}\n",
            "{'MI': 'Rohit', 'CSK': 'MSD', 'RCB': ['VK', 'ABD', 'MAXI']}\n"
          ]
        }
      ]
    },
    {
      "cell_type": "markdown",
      "metadata": {
        "id": "XNkxsoecbrSu"
      },
      "source": [
        "* Keys can be numbers, strings, bolean, tuples etc.,\n",
        "* Keys are unique and can't be duplicate. If used again, will be a overwritten\n",
        "* Keys are immutable hence list can not be a key but tuples can be.\n",
        "* No restrictions on values"
      ]
    },
    {
      "cell_type": "code",
      "metadata": {
        "colab": {
          "base_uri": "https://localhost:8080/"
        },
        "id": "aE2ZH1eBcoVL",
        "outputId": "ca55b1e2-8836-4163-dd58-1a041ca2273b"
      },
      "source": [
        "print(len(IPL))\n",
        "IPL.clear()\n",
        "print(len(IPL))"
      ],
      "execution_count": null,
      "outputs": [
        {
          "output_type": "stream",
          "name": "stdout",
          "text": [
            "4\n",
            "0\n"
          ]
        }
      ]
    },
    {
      "cell_type": "code",
      "metadata": {
        "colab": {
          "base_uri": "https://localhost:8080/"
        },
        "id": "hx2xpmLkcrUL",
        "outputId": "ebaa914c-f98d-43d8-f540-98cfe4223ce0"
      },
      "source": [
        "#get(key,default) - will not give error if key is not present, returns default value.\n",
        "print(IPL1.get(10,\"Not Available\"))\n",
        "print(IPL1.get('MI',\"Not Available\"))"
      ],
      "execution_count": null,
      "outputs": [
        {
          "output_type": "stream",
          "name": "stdout",
          "text": [
            "Not Available\n",
            "Rohit\n"
          ]
        }
      ]
    },
    {
      "cell_type": "code",
      "metadata": {
        "colab": {
          "base_uri": "https://localhost:8080/"
        },
        "id": "pGwWnWyWc81j",
        "outputId": "98772f40-19d0-4b33-d7ef-5c210b7ac9be"
      },
      "source": [
        "print(IPL1.items())\n",
        "print(IPL1.keys())\n",
        "print(IPL1.values())\n",
        "print(IPL1.pop(5,'Key not present'))\n",
        "print(IPL1.pop('DC','Key not present'))\n",
        "print(IPL1.popitem())"
      ],
      "execution_count": null,
      "outputs": [
        {
          "output_type": "stream",
          "name": "stdout",
          "text": [
            "dict_items([('MI', 'Rohit'), ('CSK', 'MSD'), ('RCB', 'Virat'), ('DC', 'RP')])\n",
            "dict_keys(['MI', 'CSK', 'RCB', 'DC'])\n",
            "dict_values(['Rohit', 'MSD', 'Virat', 'RP'])\n",
            "Key not present\n",
            "RP\n",
            "('RCB', 'Virat')\n"
          ]
        }
      ]
    },
    {
      "cell_type": "markdown",
      "metadata": {
        "id": "xXlU0u5PdOUb"
      },
      "source": [
        "SETS :\n",
        "Collection of distinct objects\n",
        "\n",
        "1.   Elements are unorderded and unique\n",
        "2.   Can modify set but values are immutable"
      ]
    },
    {
      "cell_type": "code",
      "metadata": {
        "colab": {
          "base_uri": "https://localhost:8080/"
        },
        "id": "SfMeui1xd8kI",
        "outputId": "943860f7-5bc7-4bdb-c116-1b316be6a0cb"
      },
      "source": [
        "s1 = set(['a','a','b','c','d'])\n",
        "print(s1)\n",
        "s2 = set('Sanjay')\n",
        "print(s2)\n",
        "s3 = \"Pythonnnonnno\"\n",
        "#print(list (s3))\n",
        "print(set(s3))"
      ],
      "execution_count": null,
      "outputs": [
        {
          "output_type": "stream",
          "name": "stdout",
          "text": [
            "{'d', 'b', 'c', 'a'}\n",
            "{'j', 'a', 'n', 'y', 'S'}\n",
            "{'h', 'P', 'n', 'o', 'y', 't'}\n"
          ]
        }
      ]
    },
    {
      "cell_type": "code",
      "metadata": {
        "colab": {
          "base_uri": "https://localhost:8080/"
        },
        "id": "Dm5g-RtPeClQ",
        "outputId": "015af678-f2cd-4f62-e622-9f9b3c8d86ee"
      },
      "source": [
        "s4 = {}\n",
        "print(type(s4))\n",
        "s5 = set()\n",
        "print(type(s5))"
      ],
      "execution_count": null,
      "outputs": [
        {
          "output_type": "stream",
          "name": "stdout",
          "text": [
            "<class 'dict'>\n",
            "<class 'set'>\n"
          ]
        }
      ]
    },
    {
      "cell_type": "code",
      "metadata": {
        "colab": {
          "base_uri": "https://localhost:8080/",
          "height": 165
        },
        "id": "_KCk5YWDfJfG",
        "outputId": "91527360-9a4c-4f60-b2d9-773f9323fb6a"
      },
      "source": [
        "s1 = set(['a','a','b','c','d',['a','b','c']])"
      ],
      "execution_count": null,
      "outputs": [
        {
          "output_type": "error",
          "ename": "TypeError",
          "evalue": "ignored",
          "traceback": [
            "\u001b[0;31m---------------------------------------------------------------------------\u001b[0m",
            "\u001b[0;31mTypeError\u001b[0m                                 Traceback (most recent call last)",
            "\u001b[0;32m<ipython-input-113-fb5cfe224e2e>\u001b[0m in \u001b[0;36m<module>\u001b[0;34m()\u001b[0m\n\u001b[0;32m----> 1\u001b[0;31m \u001b[0ms1\u001b[0m \u001b[0;34m=\u001b[0m \u001b[0mset\u001b[0m\u001b[0;34m(\u001b[0m\u001b[0;34m[\u001b[0m\u001b[0;34m'a'\u001b[0m\u001b[0;34m,\u001b[0m\u001b[0;34m'a'\u001b[0m\u001b[0;34m,\u001b[0m\u001b[0;34m'b'\u001b[0m\u001b[0;34m,\u001b[0m\u001b[0;34m'c'\u001b[0m\u001b[0;34m,\u001b[0m\u001b[0;34m'd'\u001b[0m\u001b[0;34m,\u001b[0m\u001b[0;34m[\u001b[0m\u001b[0;34m'a'\u001b[0m\u001b[0;34m,\u001b[0m\u001b[0;34m'b'\u001b[0m\u001b[0;34m,\u001b[0m\u001b[0;34m'c'\u001b[0m\u001b[0;34m]\u001b[0m\u001b[0;34m]\u001b[0m\u001b[0;34m)\u001b[0m\u001b[0;34m\u001b[0m\u001b[0;34m\u001b[0m\u001b[0m\n\u001b[0m",
            "\u001b[0;31mTypeError\u001b[0m: unhashable type: 'list'"
          ]
        }
      ]
    },
    {
      "cell_type": "code",
      "metadata": {
        "colab": {
          "base_uri": "https://localhost:8080/"
        },
        "id": "aLQdPJOYfQUa",
        "outputId": "36bc1eb8-f53d-4ae6-bc92-d84e5336a320"
      },
      "source": [
        "s1 = {1,2,3,4,5,6,7}\n",
        "s2 = {5,6,7,8,9,10}\n",
        "s3 = {1,2,3,4}\n",
        "print(len(s1))\n",
        "print(8 in s1)\n",
        "print(3 in s1)\n",
        "\n",
        "print(s1.union(s2))\n",
        "print(s1|s2)\n",
        "\n",
        "print(s1.intersection(s2))\n",
        "print(s1&s2)\n",
        "\n",
        "print(s1.difference(s2))\n",
        "print(s1-s2)\n",
        "\n",
        "print(s3.issubset(s1))\n",
        "print(s3<=s1)\n",
        "\n",
        "print(s1.issuperset(s3))\n",
        "print(s1>=s3)\n",
        "\n",
        "#print(s1.ispropersubset(s2)) - Wrong\n",
        "print(s3<s1)\n",
        "\n",
        "#print(s1.ispropersuperset(s2)) - Wrong\n",
        "print(s1>s3)"
      ],
      "execution_count": null,
      "outputs": [
        {
          "output_type": "stream",
          "name": "stdout",
          "text": [
            "7\n",
            "False\n",
            "True\n",
            "{1, 2, 3, 4, 5, 6, 7, 8, 9, 10}\n",
            "{1, 2, 3, 4, 5, 6, 7, 8, 9, 10}\n",
            "{5, 6, 7}\n",
            "{5, 6, 7}\n",
            "{1, 2, 3, 4}\n",
            "{1, 2, 3, 4}\n",
            "True\n",
            "True\n",
            "True\n",
            "True\n",
            "True\n",
            "True\n"
          ]
        }
      ]
    },
    {
      "cell_type": "code",
      "metadata": {
        "colab": {
          "base_uri": "https://localhost:8080/"
        },
        "id": "aJyQEUqFfa6d",
        "outputId": "c8a1e520-a919-4774-d49a-98fa565a4c62"
      },
      "source": [
        "s1 = {1,2,3,4,5,6,7}\n",
        "print(s1)\n",
        "s1.add(11)\n",
        "print(s1)\n",
        "#s1.remove(90)\n",
        "s1.remove(4) #Gives error if ele not present\n",
        "print(s1)\n",
        "s1.discard(3) #Does not give error if ele not present\n",
        "print(s1)\n",
        "print(s1.pop()) #Pops out a random element\n",
        "print(s1)\n",
        "s1.clear() #Clear all the values in a set\n"
      ],
      "execution_count": null,
      "outputs": [
        {
          "output_type": "stream",
          "name": "stdout",
          "text": [
            "{1, 2, 3, 4, 5, 6, 7}\n",
            "{1, 2, 3, 4, 5, 6, 7, 11}\n",
            "{1, 2, 3, 5, 6, 7, 11}\n",
            "{1, 2, 5, 6, 7, 11}\n",
            "1\n",
            "{2, 5, 6, 7, 11}\n",
            "set()\n"
          ]
        }
      ]
    },
    {
      "cell_type": "code",
      "metadata": {
        "id": "OHkUJi4Kh9oD"
      },
      "source": [
        ""
      ],
      "execution_count": null,
      "outputs": []
    }
  ]
}
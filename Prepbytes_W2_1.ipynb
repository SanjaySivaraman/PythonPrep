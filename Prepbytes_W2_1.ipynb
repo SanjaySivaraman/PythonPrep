{
  "nbformat": 4,
  "nbformat_minor": 0,
  "metadata": {
    "colab": {
      "name": "Prepbytes_W2_1.ipynb",
      "provenance": [],
      "collapsed_sections": [],
      "authorship_tag": "ABX9TyPXXcdPq4Grzb2cRCXXiLUp",
      "include_colab_link": true
    },
    "kernelspec": {
      "name": "python3",
      "display_name": "Python 3"
    },
    "language_info": {
      "name": "python"
    }
  },
  "cells": [
    {
      "cell_type": "markdown",
      "metadata": {
        "id": "view-in-github",
        "colab_type": "text"
      },
      "source": [
        "<a href=\"https://colab.research.google.com/github/SanjaySivaraman/PythonPrep/blob/main/Prepbytes_W2_1.ipynb\" target=\"_parent\"><img src=\"https://colab.research.google.com/assets/colab-badge.svg\" alt=\"Open In Colab\"/></a>"
      ]
    },
    {
      "cell_type": "markdown",
      "metadata": {
        "id": "f0I25J-SJZf8"
      },
      "source": [
        "##Week 2: \n",
        "\n",
        "Array Basics"
      ]
    },
    {
      "cell_type": "code",
      "metadata": {
        "colab": {
          "base_uri": "https://localhost:8080/"
        },
        "id": "eBLqvUXwXET9",
        "outputId": "e0ef96bc-7d2f-486f-f1ac-ceb239f1b26e"
      },
      "source": [
        "# Reading input as an array\n",
        "arr = []\n",
        "for ele in input().split():\n",
        "  arr.append(int(ele))\n",
        "print(\"Array 0\")\n",
        "for i in arr:\n",
        "  print(i,end=' ')\n",
        "\n",
        "print(end ='\\n')\n",
        "\n",
        "arr1 = list(map(int,input().split()))\n",
        "print(\"Array 1\")\n",
        "for i in arr1:\n",
        "  print(i,end=' ')"
      ],
      "execution_count": 4,
      "outputs": [
        {
          "output_type": "stream",
          "name": "stdout",
          "text": [
            "1 2 3 4\n",
            "Array 0\n",
            "1 2 3 4 \n",
            "5 6 7 8\n",
            "Array 1\n",
            "5 6 7 8 "
          ]
        }
      ]
    },
    {
      "cell_type": "code",
      "metadata": {
        "colab": {
          "base_uri": "https://localhost:8080/"
        },
        "id": "O0I_9u_zXkOk",
        "outputId": "02915d82-2ff1-43fa-ddb8-d60d848668c5"
      },
      "source": [
        "#Partition and split\n",
        "s=\"a@b@c@d\"\n",
        "a=list(s.partition(\"@\"))\n",
        "print(a)\n",
        "b=list(s.split(\"@\",3))\n",
        "print(b)"
      ],
      "execution_count": 5,
      "outputs": [
        {
          "output_type": "stream",
          "name": "stdout",
          "text": [
            "['a', '@', 'b@c@d']\n",
            "['a', 'b', 'c', 'd']\n"
          ]
        }
      ]
    },
    {
      "cell_type": "markdown",
      "metadata": {
        "id": "O8Tsa8x3cxdj"
      },
      "source": [
        "THE PARTITION FUNCTION ONLY SPLITS FOR THE FIRST PARAMETER ALONG WITH THE SEPARATOR WHILE SPLIT FUNCTION SPLITS FOR THE NUMBER OF TIMES GIVEN IN THE SECOND ARGUMENT BUT WITHOUT THE SEPARATOR."
      ]
    },
    {
      "cell_type": "markdown",
      "metadata": {
        "id": "1m9bWd1Acupj"
      },
      "source": [
        "###Q)Unique Color Shirt\n",
        "Prepbuddy is very tasteful of clothes. \n",
        "He has \n",
        "N\n",
        " numbers of shirts hanging in the hanger in his wardrobe.\n",
        "Prepbuddy likes to wear different colored clothes. So, whenever he see there are two or more shirts with the same color, he removes all the shirt of that color from his wardrobe. Now, he wants to know how many \n",
        "M\n",
        " unique color shirts are left in the wardrobe. \n",
        "Prepbuddy wants you to find \n",
        "M\n",
        ".\n",
        "\n",
        "Note: As there are many shades of a color so consider integers as a color name.\n",
        "i.e, color of shirt is 0,1,2, … , N.\n",
        "\n",
        "Input Format\n",
        "The first line of the input contains an integer \n",
        "N\n",
        " denoting the number of shirts in the wardrobe.\n",
        "The second line of the input contains \n",
        "N\n",
        " integers \n",
        "C\n",
        "1\n",
        ",\n",
        "C\n",
        "2\n",
        ",\n",
        "C\n",
        "3\n",
        ",\n",
        "C\n",
        "4\n",
        ",\n",
        ".\n",
        ".\n",
        ".\n",
        ",\n",
        "C\n",
        "N\n",
        " color of shirts (separated by space).\n",
        "\n",
        "Output Format\n",
        "Print a single integer \n",
        "M\n",
        " denoting the unique colored shirts left in the wardrobe. \n",
        "\n",
        "Constraints\n",
        "1\n",
        "<=\n",
        "N\n",
        "<=\n",
        "10\n",
        "3\n",
        "\n",
        "1\n",
        "<=\n",
        "C\n",
        "[\n",
        "i\n",
        "]\n",
        "<=\n",
        "10\n",
        "3\n",
        "\n",
        "Time Limit\n",
        " 1 second\n",
        "\n",
        "Example\n",
        "Input\n",
        "6\n",
        "3 2 4 1 2 3\n",
        "\n",
        "Output\n",
        "2\n",
        "\n",
        "Sample test case explanation\n",
        "Input: C=[3, 2, 4, 1, 2, 3]\n",
        "Output: 2\n",
        " \n",
        "There are two 2-color shirts, two 3-color shirts.\n",
        "So, after removing 2-color and 3-color shirts, remaining shirts are one 4-color shirt and one 1-color shirt i.e, [4, 1].\n",
        "Hence, the output will be 2.\n"
      ]
    },
    {
      "cell_type": "code",
      "metadata": {
        "id": "cP1IXi2urizm"
      },
      "source": [
        "def func(arr, n):\n",
        "    # Insert all array elements in hash table\n",
        "    mp={0}\n",
        "    for i in range(n):\n",
        "        # if arr[i] not in mp:\n",
        "        #     mp[arr[i]]=0\n",
        "        mp[arr[i]]+=1\n",
        "    # Traverse through map only and\n",
        "    count = 0\n",
        "    for x in mp:\n",
        "        if (mp[x]== 1):\n",
        "            count +=1\n",
        "    return count\n",
        "    "
      ],
      "execution_count": 2,
      "outputs": []
    }
  ]
}